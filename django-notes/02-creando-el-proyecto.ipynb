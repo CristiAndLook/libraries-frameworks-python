{
 "cells": [
  {
   "cell_type": "markdown",
   "id": "4346e9fb",
   "metadata": {},
   "source": [
    "# Creando el proyecto\n",
    "\n",
    "Necesitamos crear un directorio para el proyecto, por ejemplo `reinhart` en el escritorio.\n",
    "\n",
    "En ese directorio creamos un entorno virtual con `venv` instalando en él directamente Django:\n",
    "    \n",
    "```bash\n",
    "$ python -m venv venv\n",
    "$ source venv/bin/activate\n",
    "(venv) $ pip install django\n",
    "```\n",
    "\n",
    "Creamos el proyecto `reinhart` mediante el siguiente comando:\n",
    "\n",
    "```bash\n",
    "$ django-admin startproject reinhart\n",
    "```\n",
    "\n",
    "Y probamos a ponerlo en marcha, siempre en el directorio donde se encuentra el fichero `manage.py` (podéis usarlo de referencia):\n",
    "\n",
    "```bash\n",
    "$ cd reinhart\n",
    "$ python manage.py runserver\n",
    "```\n",
    "\n",
    "Ya podremos acceder a la url http://127.0.0.1:8000/ y ver el proyecto funcionando."
   ]
  }
 ],
 "metadata": {
  "kernelspec": {
   "display_name": "Python 3 (ipykernel)",
   "language": "python",
   "name": "python3"
  },
  "language_info": {
   "codemirror_mode": {
    "name": "ipython",
    "version": 3
   },
   "file_extension": ".py",
   "mimetype": "text/x-python",
   "name": "python",
   "nbconvert_exporter": "python",
   "pygments_lexer": "ipython3",
   "version": "3.10.5"
  }
 },
 "nbformat": 4,
 "nbformat_minor": 5
}
