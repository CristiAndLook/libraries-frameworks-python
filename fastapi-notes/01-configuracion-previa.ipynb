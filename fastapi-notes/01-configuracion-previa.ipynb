{
 "cells": [
  {
   "cell_type": "markdown",
   "id": "37594fc8",
   "metadata": {},
   "source": [
    "# Configuración previa\n",
    "\n",
    "## Entorno virtual\n",
    "\n",
    "Dentro del proyecto vamos a crear un entorno virtual, en él instalaremos [FastAPI](https://github.com/tiangolo/fastapi), el servidor web ASGI [uvicorn](https://github.com/encode/uvicorn) sobre el cuál se ejecutará el servicio y el módulo para validación de objetos [pydantic](https://github.com/samuelcolvin/pydantic):\n",
    "\n",
    "```bash\n",
    "> pip install fastapi uvicorn pydantic\n",
    "```\n",
    "\n",
    "También podemos instalar `pytest` desde el `requirements.txt` y ejecutar las pruebas para ver si todo está bien:\n",
    "\n",
    "```bash\n",
    "> pipenv install -r requirements.txt\n",
    "> pipenv run pytest -v\n",
    "```\n",
    "\n",
    "## Ficheros\n",
    "\n",
    "### use el proyecto anubis\n",
    "\n",
    "[anubis-cms](https://github.com/CristiAndLook/anubis-cms-python) es un proyecto que se encuentra en desarrollo, por lo que es posible que no funcione correctamente. Sin embargo, es un buen punto de partida para empezar a trabajar con FastAPI.\n",
    "\n",
    "\n",
    "### api.py\n",
    "\n",
    "Por lo demás solo necesitamos crear un script para la API:\n",
    "\n",
    "```python\n",
    "print(\"Servidor de la API...\")\n",
    "```\n",
    "\n",
    "\n",
    "Y ya estamos listos para empezar."
   ]
  }
 ],
 "metadata": {
  "kernelspec": {
   "display_name": "Python 3 (ipykernel)",
   "language": "python",
   "name": "python3"
  },
  "language_info": {
   "codemirror_mode": {
    "name": "ipython",
    "version": 3
   },
   "file_extension": ".py",
   "mimetype": "text/x-python",
   "name": "python",
   "nbconvert_exporter": "python",
   "pygments_lexer": "ipython3",
   "version": "3.10.5"
  }
 },
 "nbformat": 4,
 "nbformat_minor": 5
}
